{
 "cells": [
  {
   "cell_type": "markdown",
   "id": "f49c4f4e-f8a0-47cb-b288-d9426b4cec3f",
   "metadata": {},
   "source": [
    "### Template for generating code for scalable scientific computation"
   ]
  },
  {
   "cell_type": "markdown",
   "id": "c1471068-ea0f-4451-b4f1-c9f62df52827",
   "metadata": {
    "tags": []
   },
   "source": [
    "#### Fill in the project name and problem statement."
   ]
  },
  {
   "cell_type": "code",
   "execution_count": null,
   "id": "c686aa3c-2f63-4662-9a00-560d03e2005e",
   "metadata": {
    "tags": []
   },
   "outputs": [],
   "source": [
    "project_name = \"\"\n",
    "problem_statement = '''Replace this text with a description of the problem\n",
    "you are trying to solve\n",
    "'''"
   ]
  },
  {
   "cell_type": "markdown",
   "id": "41f65e5a-27da-49a3-a644-303c01069988",
   "metadata": {},
   "source": [
    "#### Set up the AI"
   ]
  },
  {
   "cell_type": "code",
   "execution_count": null,
   "id": "2a23a03a-6d96-484e-bdcc-27705aee8fc9",
   "metadata": {
    "jupyter": {
     "source_hidden": true
    },
    "tags": []
   },
   "outputs": [],
   "source": [
    "import json\n",
    "from pathlib import Path\n",
    "\n",
    "import gpt_engineer.steps as steps\n",
    "from gpt_engineer.ai import AI, fallback_model\n",
    "from gpt_engineer.db import DB, DBs\n",
    "\n",
    "def set_up(project_name, problem_statement):\n",
    "    input_path = Path(project_name)\n",
    "    input_path.mkdir(parents=True, exist_ok=True)\n",
    "\n",
    "    prompt_file = input_path / \"prompt\"\n",
    "\n",
    "    with open(prompt_file, \"w\") as file:\n",
    "        file.write(problem_statement)\n",
    "\n",
    "    input_path = input_path.absolute()\n",
    "    print(\"The following location will be used for processing\\nThe code will be output to the workspace directory of that location\")\n",
    "    print(input_path)\n",
    "    \n",
    "    model = \"gpt-4\"\n",
    "    temperature = 0.1\n",
    "    model = fallback_model(model)\n",
    "    ai = AI(\n",
    "        model=model,\n",
    "        temperature=temperature,\n",
    "    )\n",
    "\n",
    "    memory_path = input_path / \"memory\"\n",
    "    workspace_path = input_path / \"workspace\"\n",
    "    archive_path = input_path / \"archive\"\n",
    "\n",
    "    dbs = DBs(\n",
    "        memory=DB(memory_path),\n",
    "        logs=DB(memory_path / \"logs\"),\n",
    "        input=DB(input_path),\n",
    "        workspace=DB(workspace_path),\n",
    "        preprompts=DB(Path(steps.__file__).parent / \"preprompts\"),\n",
    "        archive=DB(archive_path),\n",
    "    )\n",
    "    \n",
    "    return ai, dbs\n",
    "\n",
    "def do_step(step):\n",
    "    messages = step(ai, dbs)\n",
    "    dbs.logs[step.__name__] = json.dumps(messages)"
   ]
  },
  {
   "cell_type": "code",
   "execution_count": null,
   "id": "63bb92ea-b7fd-4cc2-afcf-a271a434bf1e",
   "metadata": {
    "tags": []
   },
   "outputs": [],
   "source": [
    "ai, dbs = set_up(project_name, problem_statement)"
   ]
  },
  {
   "cell_type": "markdown",
   "id": "d43d94c5-7bab-4cc6-9d02-f63c3345a7e5",
   "metadata": {},
   "source": [
    "#### Let's do it"
   ]
  },
  {
   "cell_type": "code",
   "execution_count": null,
   "id": "00bc5a70-d7d3-4ba5-ab14-9b8c5b634589",
   "metadata": {
    "tags": []
   },
   "outputs": [],
   "source": [
    "do_step(steps.clarify)"
   ]
  },
  {
   "cell_type": "code",
   "execution_count": null,
   "id": "90470faa-1867-4f4d-aa18-300724b6d583",
   "metadata": {
    "tags": []
   },
   "outputs": [],
   "source": [
    "do_step(steps.gen_clarified_code)"
   ]
  },
  {
   "cell_type": "code",
   "execution_count": null,
   "id": "9d209540-75ab-447a-8b60-0f8dc6a58d69",
   "metadata": {
    "tags": []
   },
   "outputs": [],
   "source": [
    "do_step(steps.gen_entrypoint)"
   ]
  }
 ],
 "metadata": {
  "kernelspec": {
   "display_name": "Python 3 (ipykernel)",
   "language": "python",
   "name": "python3"
  },
  "language_info": {
   "codemirror_mode": {
    "name": "ipython",
    "version": 3
   },
   "file_extension": ".py",
   "mimetype": "text/x-python",
   "name": "python",
   "nbconvert_exporter": "python",
   "pygments_lexer": "ipython3",
   "version": "3.10.11"
  }
 },
 "nbformat": 4,
 "nbformat_minor": 5
}
