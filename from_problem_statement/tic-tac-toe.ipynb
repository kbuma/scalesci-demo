{
 "cells": [
  {
   "cell_type": "markdown",
   "id": "f49c4f4e-f8a0-47cb-b288-d9426b4cec3f",
   "metadata": {},
   "source": [
    "### Template for generating code for scalable scientific computation"
   ]
  },
  {
   "cell_type": "markdown",
   "id": "c1471068-ea0f-4451-b4f1-c9f62df52827",
   "metadata": {
    "tags": []
   },
   "source": [
    "#### Fill in the project name and problem statement."
   ]
  },
  {
   "cell_type": "code",
   "execution_count": 1,
   "id": "c686aa3c-2f63-4662-9a00-560d03e2005e",
   "metadata": {
    "tags": []
   },
   "outputs": [],
   "source": [
    "project_name = \"tic-tac-toe\"\n",
    "problem_statement = '''Create a game of Tic Tac Toe where a single user is playing the computer. \n",
    "Make it a text based game in the console.\n",
    "'''"
   ]
  },
  {
   "cell_type": "markdown",
   "id": "41f65e5a-27da-49a3-a644-303c01069988",
   "metadata": {},
   "source": [
    "#### Set up the AI"
   ]
  },
  {
   "cell_type": "code",
   "execution_count": 6,
   "id": "2a23a03a-6d96-484e-bdcc-27705aee8fc9",
   "metadata": {},
   "outputs": [],
   "source": [
    "import json\n",
    "from pathlib import Path\n",
    "\n",
    "import gpt_engineer.steps as steps\n",
    "from gpt_engineer.ai import AI, fallback_model\n",
    "from gpt_engineer.db import DB, DBs\n",
    "\n",
    "def set_up(project_name, problem_statement):\n",
    "    input_path = Path(project_name)\n",
    "    input_path.mkdir(parents=True, exist_ok=True)\n",
    "\n",
    "    prompt_file = input_path / \"prompt\"\n",
    "\n",
    "    with open(prompt_file, \"w\") as file:\n",
    "        file.write(problem_statement)\n",
    "\n",
    "    input_path = input_path.absolute()\n",
    "    print(\"The following location will be used for processing\\nThe code will be output to the workspace directory of that location\")\n",
    "    print(input_path)\n",
    "    \n",
    "    model = \"gpt-4\"\n",
    "    temperature = 0.1\n",
    "    model = fallback_model(model)\n",
    "    ai = AI(\n",
    "        model_name=model,\n",
    "        temperature=temperature,\n",
    "    )\n",
    "\n",
    "    memory_path = input_path / \"memory\"\n",
    "    workspace_path = input_path / \"workspace\"\n",
    "    archive_path = input_path / \"archive\"\n",
    "\n",
    "    dbs = DBs(\n",
    "        memory=DB(memory_path),\n",
    "        logs=DB(memory_path / \"logs\"),\n",
    "        input=DB(input_path),\n",
    "        workspace=DB(workspace_path),\n",
    "        preprompts=DB(Path(steps.__file__).parent / \"preprompts\"),\n",
    "        archive=DB(archive_path),\n",
    "    )\n",
    "    \n",
    "    return ai, dbs\n",
    "\n",
    "def do_step(step):\n",
    "    messages = step(ai, dbs)\n",
    "    dbs.logs[step.__name__] = AI.serialize_messages(messages)"
   ]
  },
  {
   "cell_type": "code",
   "execution_count": 7,
   "id": "63bb92ea-b7fd-4cc2-afcf-a271a434bf1e",
   "metadata": {
    "tags": []
   },
   "outputs": [
    {
     "name": "stdout",
     "output_type": "stream",
     "text": [
      "The following location will be used for processing\n",
      "The code will be output to the workspace directory of that location\n",
      "/Users/kberket/src/scalesci-demo/from_problem_statement/tic-tac-toe\n",
      "Model gpt-4 not available for provided API key. Reverting to gpt-3.5-turbo. Sign up for the GPT-4 wait list here: https://openai.com/waitlist/gpt-4-api\n",
      "\n"
     ]
    }
   ],
   "source": [
    "ai, dbs = set_up(project_name, problem_statement)"
   ]
  },
  {
   "cell_type": "markdown",
   "id": "d43d94c5-7bab-4cc6-9d02-f63c3345a7e5",
   "metadata": {},
   "source": [
    "#### Let's do it"
   ]
  },
  {
   "cell_type": "code",
   "execution_count": 8,
   "id": "00bc5a70-d7d3-4ba5-ab14-9b8c5b634589",
   "metadata": {
    "tags": []
   },
   "outputs": [
    {
     "name": "stdout",
     "output_type": "stream",
     "text": [
      "Areas that need clarification:\n",
      "1. What programming language should be used to create the game?\n",
      "2. Should the computer's moves be randomly generated or based on a specific algorithm?\n",
      "3. How should the game board be displayed in the console?\n",
      "4. How should the user input their moves?\n",
      "5. How should the computer determine its move?\n",
      "6. How should the game determine the winner or if it's a tie?\n",
      "7. Should the game have any additional features or options?\n",
      "\n",
      "Please let me know which question you would like me to seek clarification on.\n"
     ]
    },
    {
     "name": "stdin",
     "output_type": "stream",
     "text": [
      "(answer in text, or \"c\" to move on)\n",
      " Use Python.\n"
     ]
    },
    {
     "name": "stdout",
     "output_type": "stream",
     "text": [
      "\n",
      "Nothing more to clarify.\n"
     ]
    }
   ],
   "source": [
    "do_step(steps.clarify)"
   ]
  },
  {
   "cell_type": "code",
   "execution_count": 9,
   "id": "90470faa-1867-4f4d-aa18-300724b6d583",
   "metadata": {
    "tags": []
   },
   "outputs": [
    {
     "name": "stdout",
     "output_type": "stream",
     "text": [
      "Based on the requirements, here are the core classes, functions, and methods that will be necessary for the Tic Tac Toe game:\n",
      "\n",
      "1. Game:\n",
      "   - `start_game()`: Starts the game and manages the game flow.\n",
      "   - `display_board()`: Displays the current state of the game board.\n",
      "   - `get_user_move()`: Prompts the user for their move and validates it.\n",
      "   - `get_computer_move()`: Generates the computer's move.\n",
      "   - `make_move(player, position)`: Updates the game board with the player's move.\n",
      "   - `check_winner()`: Checks if there is a winner.\n",
      "   - `check_tie()`: Checks if the game is a tie.\n",
      "   - `play_again()`: Asks the user if they want to play again.\n",
      "\n",
      "2. Board:\n",
      "   - `__init__(self)`: Initializes the game board.\n",
      "   - `is_position_empty(self, position)`: Checks if a position on the board is empty.\n",
      "   - `is_board_full(self)`: Checks if the board is full.\n",
      "   - `make_move(self, player, position)`: Updates the board with the player's move.\n",
      "   - `is_winner(self, player)`: Checks if the player has won.\n",
      "\n",
      "3. Player:\n",
      "   - `__init__(self, name, symbol)`: Initializes a player with a name and symbol.\n",
      "   - `get_name(self)`: Returns the name of the player.\n",
      "   - `get_symbol(self)`: Returns the symbol of the player.\n",
      "\n",
      "Now, let's proceed with creating the necessary files and implementing the code.\n",
      "\n",
      "**game.py**\n",
      "```python\n",
      "from board import Board\n",
      "from player import Player\n",
      "\n",
      "class Game:\n",
      "    def __init__(self):\n",
      "        self.board = Board()\n",
      "        self.player = Player(\"Player\", \"X\")\n",
      "        self.computer = Player(\"Computer\", \"O\")\n",
      "\n",
      "    def start_game(self):\n",
      "        print(\"Welcome to Tic Tac Toe!\")\n",
      "        self.board.clear_board()\n",
      "        self.display_board()\n",
      "\n",
      "        while True:\n",
      "            self.get_user_move()\n",
      "            if self.check_winner() or self.check_tie():\n",
      "                break\n",
      "\n",
      "            self.get_computer_move()\n",
      "            if self.check_winner() or self.check_tie():\n",
      "                break\n",
      "\n",
      "        self.play_again()\n",
      "\n",
      "    def display_board(self):\n",
      "        print(\"Current Board:\")\n",
      "        self.board.display()\n",
      "\n",
      "    def get_user_move(self):\n",
      "        while True:\n",
      "            position = input(\"Enter your move (1-9): \")\n",
      "            if position.isdigit() and 1 <= int(position) <= 9:\n",
      "                position = int(position)\n",
      "                if self.board.is_position_empty(position):\n",
      "                    self.make_move(self.player, position)\n",
      "                    break\n",
      "                else:\n",
      "                    print(\"That position is already taken. Try again.\")\n",
      "            else:\n",
      "                print(\"Invalid input. Try again.\")\n",
      "\n",
      "    def get_computer_move(self):\n",
      "        position = self.board.get_random_empty_position()\n",
      "        self.make_move(self.computer, position)\n",
      "\n",
      "    def make_move(self, player, position):\n",
      "        self.board.make_move(player, position)\n",
      "        self.display_board()\n",
      "\n",
      "    def check_winner(self):\n",
      "        if self.board.is_winner(self.player):\n",
      "            print(f\"{self.player.get_name()} wins!\")\n",
      "            return True\n",
      "        elif self.board.is_winner(self.computer):\n",
      "            print(f\"{self.computer.get_name()} wins!\")\n",
      "            return True\n",
      "        return False\n",
      "\n",
      "    def check_tie(self):\n",
      "        if self.board.is_board_full():\n",
      "            print(\"It's a tie!\")\n",
      "            return True\n",
      "        return False\n",
      "\n",
      "    def play_again(self):\n",
      "        while True:\n",
      "            choice = input(\"Do you want to play again? (y/n): \")\n",
      "            if choice.lower() == \"y\":\n",
      "                self.start_game()\n",
      "                break\n",
      "            elif choice.lower() == \"n\":\n",
      "                print(\"Thank you for playing Tic Tac Toe!\")\n",
      "                break\n",
      "            else:\n",
      "                print(\"Invalid input. Try again.\")\n",
      "\n",
      "if __name__ == \"__main__\":\n",
      "    game = Game()\n",
      "    game.start_game()\n",
      "```\n",
      "\n",
      "**board.py**\n",
      "```python\n",
      "import random\n",
      "\n",
      "class Board:\n",
      "    def __init__(self):\n",
      "        self.board = [\" \" for _ in range(9)]\n",
      "\n",
      "    def clear_board(self):\n",
      "        self.board = [\" \" for _ in range(9)]\n",
      "\n",
      "    def display(self):\n",
      "        print(f\" {self.board[0]} | {self.board[1]} | {self.board[2]} \")\n",
      "        print(\"---+---+---\")\n",
      "        print(f\" {self.board[3]} | {self.board[4]} | {self.board[5]} \")\n",
      "        print(\"---+---+---\")\n",
      "        print(f\" {self.board[6]} | {self.board[7]} | {self.board[8]} \")\n",
      "\n",
      "    def is_position_empty(self, position):\n",
      "        return self.board[position - 1] == \" \"\n",
      "\n",
      "    def is_board_full(self):\n",
      "        return \" \" not in self.board\n",
      "\n",
      "    def make_move(self, player, position):\n",
      "        self.board[position - 1] = player.get_symbol()\n",
      "\n",
      "    def is_winner(self, player):\n",
      "        winning_combinations = [\n",
      "            [0, 1, 2], [3, 4, 5], [6, 7, 8],  # Rows\n",
      "            [0, 3, 6], [1, 4, 7], [2, 5, 8],  # Columns\n",
      "            [0, 4, 8], [2, 4, 6]  # Diagonals\n",
      "        ]\n",
      "\n",
      "        for combination in winning_combinations:\n",
      "            if all(self.board[pos] == player.get_symbol() for pos in combination):\n",
      "                return True\n",
      "        return False\n",
      "\n",
      "    def get_random_empty_position(self):\n",
      "        empty_positions = [pos + 1 for pos, value in enumerate(self.board) if value == \" \"]\n",
      "        return random.choice(empty_positions)\n",
      "```\n",
      "\n",
      "**player.py**\n",
      "```python\n",
      "class Player:\n",
      "    def __init__(self, name, symbol):\n",
      "        self.name = name\n",
      "        self.symbol = symbol\n",
      "\n",
      "    def get_name(self):\n",
      "        return self.name\n",
      "\n",
      "    def get_symbol(self):\n",
      "        return self.symbol\n",
      "```\n",
      "\n",
      "This is the complete implementation of the Tic Tac Toe game in Python. The game can be run by executing the `game.py` file."
     ]
    }
   ],
   "source": [
    "do_step(steps.gen_clarified_code)"
   ]
  }
 ],
 "metadata": {
  "kernelspec": {
   "display_name": "Python 3 (ipykernel)",
   "language": "python",
   "name": "python3"
  },
  "language_info": {
   "codemirror_mode": {
    "name": "ipython",
    "version": 3
   },
   "file_extension": ".py",
   "mimetype": "text/x-python",
   "name": "python",
   "nbconvert_exporter": "python",
   "pygments_lexer": "ipython3",
   "version": "3.10.11"
  }
 },
 "nbformat": 4,
 "nbformat_minor": 5
}
