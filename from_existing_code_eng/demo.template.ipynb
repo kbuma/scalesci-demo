{
 "cells": [
  {
   "cell_type": "markdown",
   "id": "f49c4f4e-f8a0-47cb-b288-d9426b4cec3f",
   "metadata": {},
   "source": [
    "### Rewriting EKE code to run more effectively on NERSC"
   ]
  },
  {
   "cell_type": "markdown",
   "id": "c1471068-ea0f-4451-b4f1-c9f62df52827",
   "metadata": {
    "tags": []
   },
   "source": [
    "#### Fill in the project name and existing code location then Run All."
   ]
  },
  {
   "cell_type": "code",
   "execution_count": null,
   "id": "c686aa3c-2f63-4662-9a00-560d03e2005e",
   "metadata": {
    "tags": []
   },
   "outputs": [],
   "source": [
    "project_name = \"my_project\"\n",
    "existing_code_location = \"path_to_code\""
   ]
  },
  {
   "cell_type": "markdown",
   "id": "41f65e5a-27da-49a3-a644-303c01069988",
   "metadata": {},
   "source": [
    "#### Set up the AI"
   ]
  },
  {
   "cell_type": "code",
   "execution_count": null,
   "id": "63bb92ea-b7fd-4cc2-afcf-a271a434bf1e",
   "metadata": {
    "jupyter": {
     "source_hidden": true
    },
    "tags": []
   },
   "outputs": [],
   "source": [
    "import script\n",
    "import gpt_engineer.steps as steps\n",
    "from gpt_engineer.ai import AI\n",
    "\n",
    "ai, dbs = script.set_up(project_name, existing_code_location)\n",
    "\n",
    "def do_step(step):\n",
    "    messages = step(ai, dbs)\n",
    "    if messages:\n",
    "        dbs.logs[step.__name__] = AI.serialize_messages(messages)\n",
    "    return messages"
   ]
  },
  {
   "cell_type": "markdown",
   "id": "d43d94c5-7bab-4cc6-9d02-f63c3345a7e5",
   "metadata": {},
   "source": [
    "#### Let's do it"
   ]
  },
  {
   "cell_type": "code",
   "execution_count": null,
   "id": "81463bba",
   "metadata": {},
   "outputs": [],
   "source": [
    "msgs = do_step(script.get_summary)"
   ]
  },
  {
   "cell_type": "code",
   "execution_count": null,
   "id": "60720027",
   "metadata": {},
   "outputs": [],
   "source": [
    "msgs = do_step(script.get_improvement_suggestions)"
   ]
  },
  {
   "cell_type": "code",
   "execution_count": null,
   "id": "0cd7d19a",
   "metadata": {},
   "outputs": [],
   "source": [
    "while True:\n",
    "    msgs = do_step(script.implement_improvement)\n",
    "    if msgs is None:\n",
    "        break"
   ]
  },
  {
   "cell_type": "code",
   "execution_count": null,
   "id": "ea9de44c-2951-45cd-a624-8bc3599e73f3",
   "metadata": {},
   "outputs": [],
   "source": [
    "print(ai.format_token_usage_log())"
   ]
  }
 ],
 "metadata": {
  "kernelspec": {
   "display_name": "Python 3 (ipykernel)",
   "language": "python",
   "name": "python3"
  },
  "language_info": {
   "codemirror_mode": {
    "name": "ipython",
    "version": 3
   },
   "file_extension": ".py",
   "mimetype": "text/x-python",
   "name": "python",
   "nbconvert_exporter": "python",
   "pygments_lexer": "ipython3",
   "version": "3.11.4"
  }
 },
 "nbformat": 4,
 "nbformat_minor": 5
}
