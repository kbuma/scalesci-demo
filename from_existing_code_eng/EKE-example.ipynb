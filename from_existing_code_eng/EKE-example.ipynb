{
 "cells": [
  {
   "cell_type": "markdown",
   "id": "f49c4f4e-f8a0-47cb-b288-d9426b4cec3f",
   "metadata": {},
   "source": [
    "## Rewriting EKE code to run more effectively on NERSC"
   ]
  },
  {
   "cell_type": "markdown",
   "id": "c1471068-ea0f-4451-b4f1-c9f62df52827",
   "metadata": {
    "tags": []
   },
   "source": [
    "### Fill in the project name and existing code location."
   ]
  },
  {
   "cell_type": "code",
   "execution_count": null,
   "id": "bb922a41-dc4c-4ba4-9a90-c6e26382578c",
   "metadata": {},
   "outputs": [],
   "source": [
    "from script import ScaleSciCollabProject"
   ]
  },
  {
   "cell_type": "markdown",
   "id": "41f65e5a-27da-49a3-a644-303c01069988",
   "metadata": {},
   "source": [
    "### Set up the AI and get working"
   ]
  },
  {
   "cell_type": "code",
   "execution_count": null,
   "id": "63bb92ea-b7fd-4cc2-afcf-a271a434bf1e",
   "metadata": {
    "tags": []
   },
   "outputs": [],
   "source": [
    "ai_collab = ScaleSciCollabProject()"
   ]
  },
  {
   "cell_type": "code",
   "execution_count": null,
   "id": "ea9de44c-2951-45cd-a624-8bc3599e73f3",
   "metadata": {},
   "outputs": [],
   "source": [
    "#print(ai_collab.data_model.ai.format_token_usage_log())"
   ]
  }
 ],
 "metadata": {
  "kernelspec": {
   "display_name": "Python 3 (ipykernel)",
   "language": "python",
   "name": "python3"
  },
  "language_info": {
   "codemirror_mode": {
    "name": "ipython",
    "version": 3
   },
   "file_extension": ".py",
   "mimetype": "text/x-python",
   "name": "python",
   "nbconvert_exporter": "python",
   "pygments_lexer": "ipython3",
   "version": "3.11.5"
  }
 },
 "nbformat": 4,
 "nbformat_minor": 5
}
