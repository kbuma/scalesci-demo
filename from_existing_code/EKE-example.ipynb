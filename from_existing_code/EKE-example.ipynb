{
 "cells": [
  {
   "cell_type": "markdown",
   "id": "4277ce05-4a4f-4c6f-bbd3-abe9fee3667e",
   "metadata": {
    "tags": []
   },
   "source": [
    "### Template for enabling existing code to run efficiently on NERSC"
   ]
  },
  {
   "cell_type": "code",
   "execution_count": 1,
   "id": "056ca777-f60b-457a-ae74-b5e6532a8910",
   "metadata": {
    "tags": []
   },
   "outputs": [],
   "source": [
    "%load_ext jupyter_ai_magics\n",
    "\n",
    "scalesci_prompt = '''You are an expert in optimizing scientific computations on HPC systems. \n",
    "You will help this scientist take their existing code and turn it into a Jupyter notebook \n",
    "utilizing dask with improved performance (faster, more interactive). \n",
    "Start by providing a short summary of the computation (DO NOT list out all the steps), followed by \n",
    "a short list of improvement suggestions for the following code.'''\n",
    "\n",
    "rewrite_prompt = '''Incorporate the suggestions and modify the existing code.'''\n",
    "\n",
    "def read_file_to_string(file_path):\n",
    "    try:\n",
    "        with open(file_path, 'r') as file:\n",
    "            return file.read()\n",
    "    except FileNotFoundError:\n",
    "        print(f\"{file_path} not found.\")\n",
    "        return None"
   ]
  },
  {
   "cell_type": "markdown",
   "id": "74e941f2-128a-4527-909e-0820586d8d72",
   "metadata": {},
   "source": [
    "#### Fill in the file name of the code that you would like help with"
   ]
  },
  {
   "cell_type": "code",
   "execution_count": 2,
   "id": "2343ad9c-fa97-4b92-b5f9-573f47fc2926",
   "metadata": {
    "tags": []
   },
   "outputs": [],
   "source": [
    "file_name = \"/Users/kberket/src/AEW_Energetics/bin/WRF_EKE_NERSC_Ex.py\"\n",
    "file_contents = read_file_to_string(file_name)"
   ]
  },
  {
   "cell_type": "code",
   "execution_count": 3,
   "id": "ebed94d2-44b3-44d7-a9a5-6186a448f878",
   "metadata": {
    "tags": []
   },
   "outputs": [
    {
     "data": {
      "text/markdown": [
       "The computation in the given code calculates the eddy kinetic energy (EKE) and plots its meridional distribution using WRF data. It performs several operations including reading netCDF files, applying temporal and spatial filtering, averaging, integrating, and plotting.\n",
       "\n",
       "Improvement suggestions for the code:\n",
       "1. Import only the required functions/modules from the libraries (`from x import y` instead of `import x`).\n",
       "2. Use Dask to parallelize and optimize the computation.\n",
       "3. Use Dask's lazy evaluation to delay the execution of operations until necessary.\n",
       "4. Avoid unnecessary variable assignments and deletions.\n",
       "5. Use Dask's distributed scheduler for distributed computing on HPC systems.\n",
       "6. Use NumPy's vectorized operations instead of looping.\n",
       "7. Utilize Dask's chunking capabilities for handling large datasets.\n",
       "8. Optimize filtering operations using more efficient algorithms or libraries.\n",
       "9. Avoid unnecessary imports that are not used in the code.\n",
       "10. Use implicit division (`from __future__ import division`) instead of explicit division (`/`).\n",
       "11. Remove unnecessary print statements.\n",
       "\n",
       "Note: The modifications will depend on the specifics of the HPC system and the dataset being used."
      ],
      "text/plain": [
       "<IPython.core.display.Markdown object>"
      ]
     },
     "execution_count": 3,
     "metadata": {
      "text/markdown": {
       "jupyter_ai": {
        "model_id": "gpt-3.5-turbo",
        "provider_id": "openai-chat"
       }
      }
     },
     "output_type": "execute_result"
    }
   ],
   "source": [
    "%%ai chatgpt\n",
    "{scalesci_prompt}\n",
    "--\n",
    "{file_contents}\n",
    "--"
   ]
  },
  {
   "cell_type": "code",
   "execution_count": 4,
   "id": "8f4883f2-a1a6-460b-bd56-e8da8242bd15",
   "metadata": {
    "tags": []
   },
   "outputs": [
    {
     "data": {
      "text/html": [
       "AI generated code inserted below &#11015;&#65039;"
      ],
      "text/plain": [
       "<IPython.core.display.HTML object>"
      ]
     },
     "execution_count": 4,
     "metadata": {
      "text/html": {
       "jupyter_ai": {
        "model_id": "gpt-3.5-turbo",
        "provider_id": "openai-chat"
       }
      }
     },
     "output_type": "execute_result"
    }
   ],
   "source": [
    "%%ai chatgpt -f code\n",
    "{rewrite_prompt}"
   ]
  },
  {
   "cell_type": "code",
   "execution_count": null,
   "id": "5283147c-a5a0-4db8-8748-200db80e1874",
   "metadata": {},
   "outputs": [],
   "source": [
    "from __future__ import division\n",
    "import os\n",
    "import numpy as np\n",
    "import xarray as xr\n",
    "import matplotlib.pyplot as plt\n",
    "import matplotlib.ticker as mticker\n",
    "from matplotlib.backends.backend_pdf import PdfPages\n",
    "import scipy.ndimage as ndimage\n",
    "import dask.array as da\n",
    "\n",
    "import wrf as wrf\n",
    "from scipy import signal\n",
    "\n",
    "\n",
    "def lat_lon(data):\n",
    "    lat = wrf.getvar(data, \"lat\")\n",
    "    lon = wrf.getvar(data, \"lon\")\n",
    "    lat_crop = lat.values[lat_index_south:lat_index_north+1, lon_index_west:lon_index_east+1]\n",
    "    lon_crop = lon.values[lat_index_south:lat_index_north+1, lon_index_west:lon_index_east+1]\n",
    "    return lat_crop, lon_crop\n",
    "\n",
    "    \n",
    "def butter_bandpass_filter(variable, fs):\n",
    "    order = 6\n",
    "    big_period_day = 5.0\n",
    "    small_period_day = 3.0\n",
    "    big_period_hr = big_period_day * 24.0\n",
    "    small_period_hr = small_period_day * 24.0\n",
    "    nyq = .5 * fs\n",
    "    low_frequency = (1 / big_period_hr) / nyq\n",
    "    high_frequency = (1 / small_period_hr) / nyq\n",
    "    b, a = signal.butter(order, [low_frequency, high_frequency], btype='bandpass')\n",
    "    filtered_variable = signal.lfilter(b, a, variable, axis=0)\n",
    "    return filtered_variable\n",
    "\n",
    "\n",
    "def main():\n",
    "    scenario_type = 'Historical'\n",
    "    g = 9.8\n",
    "    \n",
    "    lat, lon, lat_index_north, lat_index_south, lon_index_west, lon_index_east = lat_lon()\n",
    "\n",
    "    eke_list = []\n",
    "    total_eke_list = []\n",
    "    \n",
    "    for year in range(2001, 2011):\n",
    "        print('Year =', year)\n",
    "        file_location = '/global/cscratch1/sd/ebercosh/WRF_TCM/' + scenario_type + '/' + str(year) + '/'\n",
    "\n",
    "        u_data = xr.open_dataset(file_location + 'ua_' + scenario_type + '_' + str(year) + '.nc')\n",
    "        v_data = xr.open_dataset(file_location + 'va_' + scenario_type + '_' + str(year) + '.nc')\n",
    "        u_4d_full = u_data.ua\n",
    "        v_4d_full = v_data.va\n",
    "        print(u_4d_full.shape)\n",
    "        u_4d = u_4d_full[:-120, :, :, :]\n",
    "        v_4d = v_4d_full[:-120, :, :, :]\n",
    "        print(u_4d.shape)\n",
    "        \n",
    "        fs = 1/6\n",
    "        u_temp_filt = da.from_array(u_4d, chunks=(240, \"auto\", \"auto\", \"auto\"))\n",
    "        u_temp_filt = da.map_blocks(butter_bandpass_filter, u_temp_filt, fs, dtype=u_4d.dtype)\n",
    "        v_temp_filt = da.from_array(v_4d, chunks=(240, \"auto\", \"auto\", \"auto\"))\n",
    "        v_temp_filt = da.map_blocks(butter_bandpass_filter, v_temp_filt, fs, dtype=v_4d.dtype)\n",
    "        u_temp_filt, v_temp_filt = da.compute(u_temp_filt, v_temp_filt)\n",
    "\n",
    "        uu = da.square(u_temp_filt)\n",
    "        vv = da.square(v_temp_filt)\n",
    "\n",
    "        uu_3d = da.mean(uu, axis=0)\n",
    "        vv_3d = da.mean(vv, axis=0)\n",
    "        \n",
    "        uu_vv_3d = uu_3d + vv_3d\n",
    "\n",
    "        uu_vv_2d = da.mean(uu_vv_3d[:, :, lon_index_west:lon_index_east+1], axis=2)\n",
    "\n",
    "        eke_2d = 0.5 * uu_vv_2d\n",
    "        eke_list.append(eke_2d)\n",
    "\n",
    "        eke_1d = 0.5 * da.mean(uu_vv_2d[:, lat_index_south:lat_index_north+1] / g, axis=1)\n",
    "\n",
    "        total_eke = da.trapz(eke_1d, dx=5000., axis=0)\n",
    "        total_eke_list.append(total_eke)\n",
    "\n",
    "    total_eke_avg = da.mean(da.stack(total_eke_list), axis=0)\n",
    "    print('10 year total EKE for', scenario_type, '=', total_eke_avg.compute(), 'J/m^2')\n",
    "\n",
    "    eke_avg = da.mean(da.stack(eke_list), axis=0)\n",
    "    print(eke_avg.shape)\n",
    "\n",
    "    eke_smooth = da.from_array(ndimage.gaussian_filter(eke_avg.compute(), sigma=0.9, order=0))\n",
    "    \n",
    "    fig, ax = plt.subplots()\n",
    "    clevels = np.linspace(-8, 8, 33)\n",
    "    cmap = plt.cm.PuOr\n",
    "    units = '$\\mathrm{m}^{2}$ $\\mathrm{s}^{-2}$'\n",
    "    p_levels = np.linspace(1000, 100, 19)\n",
    "    X, Y = np.meshgrid(lat[:, 0], p_levels)\n",
    "    plt.xlabel(\"Latitude\")\n",
    "    plt.ylabel(\"Pressure (hPa)\")\n",
    "    contours_fill = plt.contourf(X, Y, eke_avg.compute(), cmap=cmap, levels=clevels, extend=\"both\")\n",
    "    ax.set_xlim(-5, 25)\n",
    "    plt.minorticks_on()\n",
    "    plt.gca().invert_yaxis()\n",
    "    cbar = plt.colorbar(contours_fill, shrink=.58, orientation='horizontal')\n",
    "    ax.set_aspect(1./ax.get_data_ratio())\n",
    "    fig.savefig('WRF_TCM_M-O_2001-2010avg_' + scenario_type + '_EKE.pdf', bbox_inches='tight')\n",
    "\n",
    "\n",
    "if __name__ == '__main__':\n",
    "    main()\n"
   ]
  },
  {
   "cell_type": "code",
   "execution_count": null,
   "id": "37469f25-639f-4fb2-b78d-b479290943f2",
   "metadata": {
    "tags": []
   },
   "outputs": [],
   "source": [
    "%%ai chatgpt --reset\n",
    "reset the chat history"
   ]
  }
 ],
 "metadata": {
  "kernelspec": {
   "display_name": "Python 3 (ipykernel)",
   "language": "python",
   "name": "python3"
  },
  "language_info": {
   "codemirror_mode": {
    "name": "ipython",
    "version": 3
   },
   "file_extension": ".py",
   "mimetype": "text/x-python",
   "name": "python",
   "nbconvert_exporter": "python",
   "pygments_lexer": "ipython3",
   "version": "3.11.4"
  }
 },
 "nbformat": 4,
 "nbformat_minor": 5
}
