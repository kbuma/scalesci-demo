{
 "cells": [
  {
   "cell_type": "markdown",
   "id": "4277ce05-4a4f-4c6f-bbd3-abe9fee3667e",
   "metadata": {
    "tags": []
   },
   "source": [
    "### Template for enabling existing code to run efficiently on NERSC"
   ]
  },
  {
   "cell_type": "code",
   "execution_count": null,
   "id": "056ca777-f60b-457a-ae74-b5e6532a8910",
   "metadata": {
    "jupyter": {
     "source_hidden": true
    },
    "tags": []
   },
   "outputs": [],
   "source": [
    "%load_ext jupyter_ai_magics\n",
    "\n",
    "scalesci_prompt = '''You are an expert in optimizing scientific computations on HPC systems. \n",
    "You will help this scientist take their existing code and turn it into a Jupyter notebook \n",
    "utilizing dask with improved performance (faster, more interactive). \n",
    "Start by providing a short summary of the computation (DO NOT list out all the steps), followed by \n",
    "a short list of improvement suggestions for the following code.'''\n",
    "\n",
    "rewrite_prompt = '''Incorporate the suggestions and modify the existing code.'''\n",
    "\n",
    "def read_file_to_string(file_path):\n",
    "    try:\n",
    "        with open(file_path, 'r') as file:\n",
    "            return file.read()\n",
    "    except FileNotFoundError:\n",
    "        print(f\"{file_path} not found.\")\n",
    "        return None"
   ]
  },
  {
   "cell_type": "markdown",
   "id": "74e941f2-128a-4527-909e-0820586d8d72",
   "metadata": {},
   "source": [
    "#### Fill in the file name of the code that you would like help with"
   ]
  },
  {
   "cell_type": "code",
   "execution_count": null,
   "id": "2343ad9c-fa97-4b92-b5f9-573f47fc2926",
   "metadata": {
    "tags": []
   },
   "outputs": [],
   "source": [
    "file_name = \"path/to/file\"\n",
    "file_contents = read_file_to_string(file_name)"
   ]
  },
  {
   "cell_type": "code",
   "execution_count": null,
   "id": "ebed94d2-44b3-44d7-a9a5-6186a448f878",
   "metadata": {
    "tags": []
   },
   "outputs": [],
   "source": [
    "%%ai chatgpt\n",
    "{scalesci_prompt}\n",
    "--\n",
    "{file_contents}\n",
    "--"
   ]
  },
  {
   "cell_type": "code",
   "execution_count": null,
   "id": "8f4883f2-a1a6-460b-bd56-e8da8242bd15",
   "metadata": {
    "tags": []
   },
   "outputs": [],
   "source": [
    "%%ai chatgpt -f code\n",
    "{rewrite_prompt}"
   ]
  },
  {
   "cell_type": "code",
   "execution_count": null,
   "id": "37469f25-639f-4fb2-b78d-b479290943f2",
   "metadata": {
    "tags": []
   },
   "outputs": [],
   "source": [
    "%%ai chatgpt --reset\n",
    "reset the chat history"
   ]
  }
 ],
 "metadata": {
  "kernelspec": {
   "display_name": "Python 3 (ipykernel)",
   "language": "python",
   "name": "python3"
  },
  "language_info": {
   "codemirror_mode": {
    "name": "ipython",
    "version": 3
   },
   "file_extension": ".py",
   "mimetype": "text/x-python",
   "name": "python",
   "nbconvert_exporter": "python",
   "pygments_lexer": "ipython3",
   "version": "3.10.11"
  }
 },
 "nbformat": 4,
 "nbformat_minor": 5
}
